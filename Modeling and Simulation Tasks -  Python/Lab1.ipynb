{
 "cells": [
  {
   "cell_type": "code",
   "execution_count": 77,
   "metadata": {},
   "outputs": [
    {
     "name": "stdout",
     "output_type": "stream",
     "text": [
      "\n",
      "Fold No 1\n",
      "Tom Wins Count = 18\n",
      "Harry Wins Count = 12\n",
      "\n",
      "Tom Wins Price = 6\n",
      "Harry Wins Price = -6\n",
      "\n",
      "Fold No 2\n",
      "Tom Wins Count = 16\n",
      "Harry Wins Count = 14\n",
      "\n",
      "Tom Wins Price = 2\n",
      "Harry Wins Price = -2\n",
      "\n",
      "Fold No 3\n",
      "Tom Wins Count = 19\n",
      "Harry Wins Count = 11\n",
      "\n",
      "Tom Wins Price = 8\n",
      "Harry Wins Price = -8\n",
      "\n",
      "Fold No 4\n",
      "Tom Wins Count = 14\n",
      "Harry Wins Count = 16\n",
      "\n",
      "Tom Wins Price = -2\n",
      "Harry Wins Price = 2\n",
      "\n",
      "Fold No 5\n",
      "Tom Wins Count = 17\n",
      "Harry Wins Count = 13\n",
      "\n",
      "Tom Wins Price = 4\n",
      "Harry Wins Price = -4\n",
      "\n",
      "\n",
      "Harry ahead on half of the tosses occurs 1 times\n",
      "\n",
      "\n",
      "Tom ahead on half of the tosses occurs 1 times\n",
      "\n",
      "\n",
      "Harry ahead on 25 or more tosses occurs 0 times\n",
      "\n",
      "Harry ahead on 5 or more tosses occurs 5 times\n"
     ]
    }
   ],
   "source": [
    "import numpy as np\n",
    "import pandas as pd\n",
    "import random\n",
    "aheadH = 0\n",
    "aheadT = 0\n",
    "ahead2 = 0\n",
    "ahead3 = 0\n",
    "for x in range(1,6):\n",
    "    tom_count = 0\n",
    "    harry_count = 0\n",
    "    tom_win_price = 0\n",
    "    harry_win_price = 0\n",
    "    print('\\nFold No '+str(x))\n",
    "    for i in range(1,31):\n",
    "        value = random.randint(0,1)\n",
    "        if value == 0:\n",
    "            tom_count += 1\n",
    "            tom_win_price += 1\n",
    "            harry_win_price -= 1\n",
    "\n",
    "        else:\n",
    "            harry_count += 1\n",
    "            tom_win_price -= 1\n",
    "            harry_win_price += 1\n",
    "            \n",
    "    if harry_count == 16:\n",
    "            aheadH += 1\n",
    "    if tom_count == 16:\n",
    "            aheadT += 1\n",
    "    if harry_count >= 25:\n",
    "        ahead2 += 1\n",
    "    if harry_count >= 5:\n",
    "        ahead3 += 1\n",
    "\n",
    "    print('Tom Wins Count = '+str(tom_count)+'\\nHarry Wins Count = '+str(harry_count))\n",
    "    print('\\nTom Wins Price = '+str(tom_win_price)+'\\nHarry Wins Price = '+str(harry_win_price))\n",
    "\n",
    "print('\\n\\nHarry ahead on half of the tosses occurs '+str(aheadH)+' times')\n",
    "print('\\n\\nTom ahead on half of the tosses occurs '+str(aheadT)+' times')\n",
    "print('\\n\\nHarry ahead on 25 or more tosses occurs '+str(ahead2)+' times')\n",
    "print('\\nHarry ahead on 5 or more tosses occurs '+str(ahead3)+' times')"
   ]
  },
  {
   "cell_type": "code",
   "execution_count": null,
   "metadata": {
    "collapsed": true
   },
   "outputs": [],
   "source": []
  },
  {
   "cell_type": "code",
   "execution_count": null,
   "metadata": {
    "collapsed": true
   },
   "outputs": [],
   "source": []
  }
 ],
 "metadata": {
  "kernelspec": {
   "display_name": "Python 3",
   "language": "python",
   "name": "python3"
  },
  "language_info": {
   "codemirror_mode": {
    "name": "ipython",
    "version": 3
   },
   "file_extension": ".py",
   "mimetype": "text/x-python",
   "name": "python",
   "nbconvert_exporter": "python",
   "pygments_lexer": "ipython3",
   "version": "3.6.2"
  }
 },
 "nbformat": 4,
 "nbformat_minor": 2
}
